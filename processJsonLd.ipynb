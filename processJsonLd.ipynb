{
 "cells": [
  {
   "cell_type": "code",
   "execution_count": 14,
   "id": "d1e0b147",
   "metadata": {},
   "outputs": [],
   "source": [
    "import json\n",
    "\n",
    "with open(\"workflows-bioschemas-dump (1).jsonld\", \"r\") as f:\n",
    "    data = json.load(f)\n",
    "\n",
    "docs = []\n",
    "for item in data:\n",
    "    text = f\"Workflow name: {item.get('name')}\\n\"\n",
    "    text += f\"Platform: {item.get('platform')}\\n\"\n",
    "    creator = item.get(\"creator\")\n",
    "    if isinstance(creator, dict):\n",
    "        creator_name = creator.get(\"name\")\n",
    "    else:\n",
    "        creator_name = creator\n",
    "    text += f\"Creator: {creator_name}\\n\"\n",
    "    text += f\"Description: {item.get('description')}\\n\"\n",
    "    docs.append({\"id\": item[\"@id\"], \"text\": text})"
   ]
  },
  {
   "cell_type": "code",
   "execution_count": null,
   "id": "132ad984",
   "metadata": {},
   "outputs": [],
   "source": [
    "from rdflib import Graph\n",
    "\n",
    "g = Graph()\n",
    "g.parse(\"workflowhub-graph.ttl\", format=\"turtle\")  \n",
    "\n",
    "\n",
    "for subj, pred, obj in g:\n",
    "    print(f\"{subj} --[{pred}]--> {obj}\") "
   ]
  },
  {
   "cell_type": "code",
   "execution_count": null,
   "id": "1736669c",
   "metadata": {},
   "outputs": [],
   "source": [
    "from collections import defaultdict\n",
    "\n",
    "entity_info = defaultdict(list)\n",
    "\n",
    "\n",
    "for s, p, o in g:\n",
    "    entity_info[s].append((p, o))"
   ]
  },
  {
   "cell_type": "code",
   "execution_count": 4,
   "id": "f220d000",
   "metadata": {},
   "outputs": [],
   "source": [
    "rag_docs = []\n",
    "\n",
    "for subject, props in entity_info.items():\n",
    "    lines = [f\"Entity: {subject}\"]\n",
    "    for p, o in props:\n",
    "        lines.append(f\"  {p.split('/')[-1]} → {o}\")\n",
    "    doc_text = \"\\n\".join(lines)\n",
    "    rag_docs.append({\"id\": str(subject), \"text\": doc_text})"
   ]
  },
  {
   "cell_type": "code",
   "execution_count": null,
   "id": "ddc4eff5",
   "metadata": {},
   "outputs": [],
   "source": [
    "print(rag_docs[2][\"text\"])"
   ]
  },
  {
   "cell_type": "code",
   "execution_count": null,
   "id": "991a3a89",
   "metadata": {},
   "outputs": [],
   "source": [
    "entities = set(g.subjects())\n",
    "\n",
    "for entity in entities:\n",
    "    print(f\"\\nEntity: {entity}\")\n",
    "    for p, o in g.predicate_objects(subject=entity):\n",
    "        print(f\"  {p.split('/')[-1]} → {o}\")"
   ]
  },
  {
   "cell_type": "code",
   "execution_count": 15,
   "id": "0202c77d",
   "metadata": {},
   "outputs": [],
   "source": [
    "from rdflib import Graph\n",
    "\n",
    "g = Graph()\n",
    "g.parse(\"workflowhub-graph.ttl\", format=\"turtle\")\n",
    "\n",
    "def enrich_with_relationships(uri):\n",
    "    lines = []\n",
    "    for p, o in g.predicate_objects(uri):\n",
    "        lines.append(f\"{p.split('/')[-1]} → {o}\")\n",
    "    return \"\\n\".join(lines)\n",
    "\n",
    "for doc in docs:\n",
    "    relationships = enrich_with_relationships(doc[\"id\"])\n",
    "    doc[\"text\"] += \"\\nRelationships:\\n\" + relationships\n"
   ]
  },
  {
   "cell_type": "code",
   "execution_count": null,
   "id": "b1ccfc4a",
   "metadata": {},
   "outputs": [],
   "source": [
    "print(len(docs), \"documents processed.\")\n",
    "for i, doc in enumerate(docs[:3]):\n",
    "    relationships = enrich_with_relationships(doc[\"id\"])\n",
    "    doc[\"text\"] += \"\\nRelationships:\\n\" + relationships\n",
    "    print(f\"\\n==== Document {i+1} ====\")\n",
    "    print(doc[\"text\"])"
   ]
  }
 ],
 "metadata": {
  "kernelspec": {
   "display_name": "llamaenv",
   "language": "python",
   "name": "python3"
  },
  "language_info": {
   "codemirror_mode": {
    "name": "ipython",
    "version": 3
   },
   "file_extension": ".py",
   "mimetype": "text/x-python",
   "name": "python",
   "nbconvert_exporter": "python",
   "pygments_lexer": "ipython3",
   "version": "3.10.18"
  }
 },
 "nbformat": 4,
 "nbformat_minor": 5
}
